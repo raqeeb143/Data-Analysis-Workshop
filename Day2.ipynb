{
 "cells": [
  {
   "cell_type": "code",
   "execution_count": 4,
   "metadata": {
    "scrolled": true
   },
   "outputs": [
    {
     "name": "stdout",
     "output_type": "stream",
     "text": [
      "Ravi 40 50 60\n",
      "Anil 50 60 80\n",
      "\n",
      "Ravi 150\n",
      "Anil 190\n"
     ]
    }
   ],
   "source": [
    "f=open(\"data1.txt\",\"r\")\n",
    "data=f.read()\n",
    "print(data)"
   ]
  },
  {
   "cell_type": "code",
   "execution_count": 1,
   "metadata": {},
   "outputs": [
    {
     "name": "stdout",
     "output_type": "stream",
     "text": [
      "Ravi 40 50 60\n",
      "Anil 50 60 80\n",
      "\n",
      "Ravi 150\n",
      "Anil 190\n"
     ]
    }
   ],
   "source": [
    "f=open(\"data1.txt\",\"r\")\n",
    "data=f.read()\n",
    "\n",
    "print(data)"
   ]
  },
  {
   "cell_type": "code",
   "execution_count": 21,
   "metadata": {},
   "outputs": [
    {
     "name": "stdout",
     "output_type": "stream",
     "text": [
      "Ravi    150\n"
     ]
    },
    {
     "ename": "TypeError",
     "evalue": "write() takes exactly one argument (2 given)",
     "output_type": "error",
     "traceback": [
      "\u001b[1;31m---------------------------------------------------------------------------\u001b[0m",
      "\u001b[1;31mTypeError\u001b[0m                                 Traceback (most recent call last)",
      "\u001b[1;32m<ipython-input-21-40e7c51b8daa>\u001b[0m in \u001b[0;36m<module>\u001b[1;34m\u001b[0m\n\u001b[0;32m      7\u001b[0m     \u001b[0mtotal\u001b[0m \u001b[1;33m=\u001b[0m \u001b[0msum\u001b[0m\u001b[1;33m(\u001b[0m\u001b[0mlist\u001b[0m\u001b[1;33m(\u001b[0m\u001b[0mmap\u001b[0m\u001b[1;33m(\u001b[0m\u001b[0mint\u001b[0m\u001b[1;33m,\u001b[0m\u001b[0mwords\u001b[0m\u001b[1;33m[\u001b[0m\u001b[1;36m1\u001b[0m\u001b[1;33m:\u001b[0m\u001b[1;33m]\u001b[0m\u001b[1;33m)\u001b[0m\u001b[1;33m)\u001b[0m\u001b[1;33m)\u001b[0m\u001b[1;33m\u001b[0m\u001b[1;33m\u001b[0m\u001b[0m\n\u001b[0;32m      8\u001b[0m     \u001b[0mprint\u001b[0m\u001b[1;33m(\u001b[0m\u001b[0mname\u001b[0m\u001b[1;33m,\u001b[0m\u001b[1;34m\"  \"\u001b[0m\u001b[1;33m,\u001b[0m\u001b[0mtotal\u001b[0m\u001b[1;33m)\u001b[0m\u001b[1;33m\u001b[0m\u001b[1;33m\u001b[0m\u001b[0m\n\u001b[1;32m----> 9\u001b[1;33m     \u001b[0mf2\u001b[0m\u001b[1;33m.\u001b[0m\u001b[0mwrite\u001b[0m\u001b[1;33m(\u001b[0m\u001b[0mname\u001b[0m \u001b[1;33m+\u001b[0m\u001b[1;34m\" \"\u001b[0m\u001b[1;33m+\u001b[0m\u001b[0mstr\u001b[0m\u001b[1;33m(\u001b[0m\u001b[0mtotal\u001b[0m\u001b[1;33m)\u001b[0m\u001b[1;33m,\u001b[0m\u001b[1;34m\"\\n\"\u001b[0m\u001b[1;33m)\u001b[0m\u001b[1;33m\u001b[0m\u001b[1;33m\u001b[0m\u001b[0m\n\u001b[0m\u001b[0;32m     10\u001b[0m \u001b[0mf2\u001b[0m\u001b[1;33m.\u001b[0m\u001b[0mclose\u001b[0m\u001b[1;33m(\u001b[0m\u001b[1;33m)\u001b[0m\u001b[1;33m\u001b[0m\u001b[1;33m\u001b[0m\u001b[0m\n",
      "\u001b[1;31mTypeError\u001b[0m: write() takes exactly one argument (2 given)"
     ]
    }
   ],
   "source": [
    "f=open(\"data1.txt\",'r')\n",
    "f2=open(\"data2.txt\",\"w\")\n",
    "data=f.readlines()\n",
    "for i in data:\n",
    "    words = i.split()\n",
    "    name = words[0]\n",
    "    total = sum(list(map(int,words[1:])))\n",
    "    print(name,\"  \",total)\n",
    "    f2.write(name +\" \"+str(total),\"\\n\")\n",
    "f2.close()"
   ]
  },
  {
   "cell_type": "code",
   "execution_count": 25,
   "metadata": {},
   "outputs": [
    {
     "ename": "TypeError",
     "evalue": "'module' object is not callable",
     "output_type": "error",
     "traceback": [
      "\u001b[1;31m---------------------------------------------------------------------------\u001b[0m",
      "\u001b[1;31mTypeError\u001b[0m                                 Traceback (most recent call last)",
      "\u001b[1;32m<ipython-input-25-0bb5059d80ef>\u001b[0m in \u001b[0;36m<module>\u001b[1;34m\u001b[0m\n\u001b[0;32m      1\u001b[0m \u001b[1;32mimport\u001b[0m \u001b[0mrandom\u001b[0m\u001b[1;33m\u001b[0m\u001b[1;33m\u001b[0m\u001b[0m\n\u001b[1;32m----> 2\u001b[1;33m \u001b[0mprint\u001b[0m\u001b[1;33m(\u001b[0m\u001b[0mrandom\u001b[0m\u001b[1;33m(\u001b[0m\u001b[1;33m)\u001b[0m\u001b[1;33m)\u001b[0m\u001b[1;33m\u001b[0m\u001b[1;33m\u001b[0m\u001b[0m\n\u001b[0m",
      "\u001b[1;31mTypeError\u001b[0m: 'module' object is not callable"
     ]
    }
   ],
   "source": [
    "import random\n",
    "print(random())"
   ]
  },
  {
   "cell_type": "code",
   "execution_count": 26,
   "metadata": {},
   "outputs": [
    {
     "data": {
      "text/plain": [
       "0.3847185002368505"
      ]
     },
     "execution_count": 26,
     "metadata": {},
     "output_type": "execute_result"
    }
   ],
   "source": [
    "random.random()"
   ]
  },
  {
   "cell_type": "code",
   "execution_count": 28,
   "metadata": {},
   "outputs": [
    {
     "name": "stdout",
     "output_type": "stream",
     "text": [
      "0.887456961860666\n",
      "0.4902090309082421\n",
      "0.6611487573615112\n",
      "0.39043089690229593\n",
      "0.5597476061391046\n",
      "0.4588781739484965\n",
      "0.8589962839664209\n",
      "0.34778729359165217\n",
      "0.34472074239855555\n"
     ]
    }
   ],
   "source": [
    "for i in range(1,10):\n",
    "    print(random.random())"
   ]
  },
  {
   "cell_type": "code",
   "execution_count": 30,
   "metadata": {},
   "outputs": [
    {
     "data": {
      "text/plain": [
       "5"
      ]
     },
     "execution_count": 30,
     "metadata": {},
     "output_type": "execute_result"
    }
   ],
   "source": [
    "random.randint(1,10)"
   ]
  },
  {
   "cell_type": "code",
   "execution_count": 34,
   "metadata": {},
   "outputs": [
    {
     "name": "stdout",
     "output_type": "stream",
     "text": [
      "3\n",
      "3\n",
      "8\n",
      "4\n",
      "5\n",
      "4\n",
      "6\n",
      "9\n",
      "5\n"
     ]
    }
   ],
   "source": [
    "for i in range(1,10):\n",
    "    print(random.randint(1,10))"
   ]
  },
  {
   "cell_type": "code",
   "execution_count": 35,
   "metadata": {
    "scrolled": true
   },
   "outputs": [
    {
     "name": "stdout",
     "output_type": "stream",
     "text": [
      "['clark', 'barry', 'bruce', 'arthur']\n"
     ]
    }
   ],
   "source": [
    "l=['bruce','clark','barry','arthur']\n",
    "s=random.shuffle(l)\n",
    "print(l)"
   ]
  },
  {
   "cell_type": "code",
   "execution_count": 36,
   "metadata": {
    "scrolled": true
   },
   "outputs": [
    {
     "data": {
      "text/plain": [
       "1"
      ]
     },
     "execution_count": 36,
     "metadata": {},
     "output_type": "execute_result"
    }
   ],
   "source": [
    "random.randrange(1,10)"
   ]
  },
  {
   "cell_type": "code",
   "execution_count": null,
   "metadata": {
    "scrolled": true
   },
   "outputs": [
    {
     "name": "stdout",
     "output_type": "stream",
     "text": [
      "\n",
      "Welcome to Python 3.8's help utility!\n",
      "\n",
      "If this is your first time using Python, you should definitely check out\n",
      "the tutorial on the Internet at https://docs.python.org/3.8/tutorial/.\n",
      "\n",
      "Enter the name of any module, keyword, or topic to get help on writing\n",
      "Python programs and using Python modules.  To quit this help utility and\n",
      "return to the interpreter, just type \"quit\".\n",
      "\n",
      "To get a list of available modules, keywords, symbols, or topics, type\n",
      "\"modules\", \"keywords\", \"symbols\", or \"topics\".  Each module also comes\n",
      "with a one-line summary of what it does; to list the modules whose name\n",
      "or summary contain a given string such as \"spam\", type \"modules spam\".\n",
      "\n",
      "help> \"keywords\"\n",
      "\n",
      "Here is a list of the Python keywords.  Enter any keyword to get more help.\n",
      "\n",
      "False               class               from                or\n",
      "None                continue            global              pass\n",
      "True                def                 if                  raise\n",
      "and                 del                 import              return\n",
      "as                  elif                in                  try\n",
      "assert              else                is                  while\n",
      "async               except              lambda              with\n",
      "await               finally             nonlocal            yield\n",
      "break               for                 not                 \n",
      "\n",
      "help> async\n",
      "Coroutines\n",
      "**********\n",
      "\n",
      "New in version 3.5.\n",
      "\n",
      "\n",
      "Coroutine function definition\n",
      "=============================\n",
      "\n",
      "   async_funcdef ::= [decorators] \"async\" \"def\" funcname \"(\" [parameter_list] \")\"\n",
      "                     [\"->\" expression] \":\" suite\n",
      "\n",
      "Execution of Python coroutines can be suspended and resumed at many\n",
      "points (see *coroutine*).  Inside the body of a coroutine function,\n",
      "\"await\" and \"async\" identifiers become reserved keywords; \"await\"\n",
      "expressions, \"async for\" and \"async with\" can only be used in\n",
      "coroutine function bodies.\n",
      "\n",
      "Functions defined with \"async def\" syntax are always coroutine\n",
      "functions, even if they do not contain \"await\" or \"async\" keywords.\n",
      "\n",
      "It is a \"SyntaxError\" to use a \"yield from\" expression inside the body\n",
      "of a coroutine function.\n",
      "\n",
      "An example of a coroutine function:\n",
      "\n",
      "   async def func(param1, param2):\n",
      "       do_stuff()\n",
      "       await some_coroutine()\n",
      "\n",
      "\n",
      "The \"async for\" statement\n",
      "=========================\n",
      "\n",
      "   async_for_stmt ::= \"async\" for_stmt\n",
      "\n",
      "An *asynchronous iterable* is able to call asynchronous code in its\n",
      "*iter* implementation, and *asynchronous iterator* can call\n",
      "asynchronous code in its *next* method.\n",
      "\n",
      "The \"async for\" statement allows convenient iteration over\n",
      "asynchronous iterators.\n",
      "\n",
      "The following code:\n",
      "\n",
      "   async for TARGET in ITER:\n",
      "       SUITE\n",
      "   else:\n",
      "       SUITE2\n",
      "\n",
      "Is semantically equivalent to:\n",
      "\n",
      "   iter = (ITER)\n",
      "   iter = type(iter).__aiter__(iter)\n",
      "   running = True\n",
      "\n",
      "   while running:\n",
      "       try:\n",
      "           TARGET = await type(iter).__anext__(iter)\n",
      "       except StopAsyncIteration:\n",
      "           running = False\n",
      "       else:\n",
      "           SUITE\n",
      "   else:\n",
      "       SUITE2\n",
      "\n",
      "See also \"__aiter__()\" and \"__anext__()\" for details.\n",
      "\n",
      "It is a \"SyntaxError\" to use an \"async for\" statement outside the body\n",
      "of a coroutine function.\n",
      "\n",
      "\n",
      "The \"async with\" statement\n",
      "==========================\n",
      "\n",
      "   async_with_stmt ::= \"async\" with_stmt\n",
      "\n",
      "An *asynchronous context manager* is a *context manager* that is able\n",
      "to suspend execution in its *enter* and *exit* methods.\n",
      "\n",
      "The following code:\n",
      "\n",
      "   async with EXPRESSION as TARGET:\n",
      "       SUITE\n",
      "\n",
      "is semantically equivalent to:\n",
      "\n",
      "   manager = (EXPRESSION)\n",
      "   aexit = type(manager).__aexit__\n",
      "   aenter = type(manager).__aenter__\n",
      "   value = await aenter(manager)\n",
      "   hit_except = False\n",
      "\n",
      "   try:\n",
      "       TARGET = value\n",
      "       SUITE\n",
      "   except:\n",
      "       hit_except = True\n",
      "       if not await aexit(manager, *sys.exc_info()):\n",
      "           raise\n",
      "   finally:\n",
      "       if not hit_except:\n",
      "           await aexit(manager, None, None, None)\n",
      "\n",
      "See also \"__aenter__()\" and \"__aexit__()\" for details.\n",
      "\n",
      "It is a \"SyntaxError\" to use an \"async with\" statement outside the\n",
      "body of a coroutine function.\n",
      "\n",
      "See also:\n",
      "\n",
      "  **PEP 492** - Coroutines with async and await syntax\n",
      "     The proposal that made coroutines a proper standalone concept in\n",
      "     Python, and added supporting syntax.\n",
      "\n",
      "-[ Footnotes ]-\n",
      "\n",
      "[1] The exception is propagated to the invocation stack unless\n",
      "    there is a \"finally\" clause which happens to raise another\n",
      "    exception. That new exception causes the old one to be lost.\n",
      "\n",
      "[2] A string literal appearing as the first statement in the\n",
      "    function body is transformed into the function’s \"__doc__\"\n",
      "    attribute and therefore the function’s *docstring*.\n",
      "\n",
      "[3] A string literal appearing as the first statement in the class\n",
      "    body is transformed into the namespace’s \"__doc__\" item and\n",
      "    therefore the class’s *docstring*.\n",
      "\n",
      "help>  \"symbols\"\n",
      "\n",
      "Here is a list of the punctuation symbols which Python assigns special meaning\n",
      "to. Enter any symbol to get more help.\n",
      "\n",
      "!=                  +                   <=                  __\n",
      "\"                   +=                  <>                  `\n",
      "\"\"\"                 ,                   ==                  b\"\n",
      "%                   -                   >                   b'\n",
      "%=                  -=                  >=                  f\"\n",
      "&                   .                   >>                  f'\n",
      "&=                  ...                 >>=                 j\n",
      "'                   /                   @                   r\"\n",
      "'''                 //                  J                   r'\n",
      "(                   //=                 [                   u\"\n",
      ")                   /=                  \\                   u'\n",
      "*                   :                   ]                   |\n",
      "**                  <                   ^                   |=\n",
      "**=                 <<                  ^=                  ~\n",
      "*=                  <<=                 _                   \n",
      "\n",
      "help> !=\n",
      "Operator precedence\n",
      "*******************\n",
      "\n",
      "The following table summarizes the operator precedence in Python, from\n",
      "lowest precedence (least binding) to highest precedence (most\n",
      "binding).  Operators in the same box have the same precedence.  Unless\n",
      "the syntax is explicitly given, operators are binary.  Operators in\n",
      "the same box group left to right (except for exponentiation, which\n",
      "groups from right to left).\n",
      "\n",
      "Note that comparisons, membership tests, and identity tests, all have\n",
      "the same precedence and have a left-to-right chaining feature as\n",
      "described in the Comparisons section.\n",
      "\n",
      "+-------------------------------------------------+---------------------------------------+\n",
      "| Operator                                        | Description                           |\n",
      "|=================================================|=======================================|\n",
      "| \":=\"                                            | Assignment expression                 |\n",
      "+-------------------------------------------------+---------------------------------------+\n",
      "| \"lambda\"                                        | Lambda expression                     |\n",
      "+-------------------------------------------------+---------------------------------------+\n",
      "| \"if\" – \"else\"                                   | Conditional expression                |\n",
      "+-------------------------------------------------+---------------------------------------+\n",
      "| \"or\"                                            | Boolean OR                            |\n",
      "+-------------------------------------------------+---------------------------------------+\n",
      "| \"and\"                                           | Boolean AND                           |\n",
      "+-------------------------------------------------+---------------------------------------+\n",
      "| \"not\" \"x\"                                       | Boolean NOT                           |\n",
      "+-------------------------------------------------+---------------------------------------+\n",
      "| \"in\", \"not in\", \"is\", \"is not\", \"<\", \"<=\", \">\", | Comparisons, including membership     |\n",
      "| \">=\", \"!=\", \"==\"                                | tests and identity tests              |\n",
      "+-------------------------------------------------+---------------------------------------+\n",
      "| \"|\"                                             | Bitwise OR                            |\n",
      "+-------------------------------------------------+---------------------------------------+\n",
      "| \"^\"                                             | Bitwise XOR                           |\n",
      "+-------------------------------------------------+---------------------------------------+\n",
      "| \"&\"                                             | Bitwise AND                           |\n",
      "+-------------------------------------------------+---------------------------------------+\n",
      "| \"<<\", \">>\"                                      | Shifts                                |\n",
      "+-------------------------------------------------+---------------------------------------+\n",
      "| \"+\", \"-\"                                        | Addition and subtraction              |\n",
      "+-------------------------------------------------+---------------------------------------+\n",
      "| \"*\", \"@\", \"/\", \"//\", \"%\"                        | Multiplication, matrix                |\n",
      "|                                                 | multiplication, division, floor       |\n",
      "|                                                 | division, remainder [5]               |\n",
      "+-------------------------------------------------+---------------------------------------+\n",
      "| \"+x\", \"-x\", \"~x\"                                | Positive, negative, bitwise NOT       |\n",
      "+-------------------------------------------------+---------------------------------------+\n",
      "| \"**\"                                            | Exponentiation [6]                    |\n",
      "+-------------------------------------------------+---------------------------------------+\n",
      "| \"await\" \"x\"                                     | Await expression                      |\n",
      "+-------------------------------------------------+---------------------------------------+\n",
      "| \"x[index]\", \"x[index:index]\",                   | Subscription, slicing, call,          |\n",
      "| \"x(arguments...)\", \"x.attribute\"                | attribute reference                   |\n",
      "+-------------------------------------------------+---------------------------------------+\n",
      "| \"(expressions...)\",  \"[expressions...]\", \"{key: | Binding or parenthesized expression,  |\n",
      "| value...}\", \"{expressions...}\"                  | list display, dictionary display, set |\n",
      "|                                                 | display                               |\n",
      "+-------------------------------------------------+---------------------------------------+\n",
      "\n",
      "-[ Footnotes ]-\n",
      "\n",
      "[1] While \"abs(x%y) < abs(y)\" is true mathematically, for floats\n",
      "    it may not be true numerically due to roundoff.  For example, and\n",
      "    assuming a platform on which a Python float is an IEEE 754 double-\n",
      "    precision number, in order that \"-1e-100 % 1e100\" have the same\n",
      "    sign as \"1e100\", the computed result is \"-1e-100 + 1e100\", which\n",
      "    is numerically exactly equal to \"1e100\".  The function\n",
      "    \"math.fmod()\" returns a result whose sign matches the sign of the\n",
      "    first argument instead, and so returns \"-1e-100\" in this case.\n",
      "    Which approach is more appropriate depends on the application.\n",
      "\n",
      "[2] If x is very close to an exact integer multiple of y, it’s\n",
      "    possible for \"x//y\" to be one larger than \"(x-x%y)//y\" due to\n",
      "    rounding.  In such cases, Python returns the latter result, in\n",
      "    order to preserve that \"divmod(x,y)[0] * y + x % y\" be very close\n",
      "    to \"x\".\n",
      "\n",
      "[3] The Unicode standard distinguishes between *code points* (e.g.\n",
      "    U+0041) and *abstract characters* (e.g. “LATIN CAPITAL LETTER A”).\n",
      "    While most abstract characters in Unicode are only represented\n",
      "    using one code point, there is a number of abstract characters\n",
      "    that can in addition be represented using a sequence of more than\n",
      "    one code point.  For example, the abstract character “LATIN\n",
      "    CAPITAL LETTER C WITH CEDILLA” can be represented as a single\n",
      "    *precomposed character* at code position U+00C7, or as a sequence\n",
      "    of a *base character* at code position U+0043 (LATIN CAPITAL\n",
      "    LETTER C), followed by a *combining character* at code position\n",
      "    U+0327 (COMBINING CEDILLA).\n",
      "\n",
      "    The comparison operators on strings compare at the level of\n",
      "    Unicode code points. This may be counter-intuitive to humans.  For\n",
      "    example, \"\"\\u00C7\" == \"\\u0043\\u0327\"\" is \"False\", even though both\n",
      "    strings represent the same abstract character “LATIN CAPITAL\n",
      "    LETTER C WITH CEDILLA”.\n",
      "\n",
      "    To compare strings at the level of abstract characters (that is,\n",
      "    in a way intuitive to humans), use \"unicodedata.normalize()\".\n",
      "\n",
      "[4] Due to automatic garbage-collection, free lists, and the\n",
      "    dynamic nature of descriptors, you may notice seemingly unusual\n",
      "    behaviour in certain uses of the \"is\" operator, like those\n",
      "    involving comparisons between instance methods, or constants.\n",
      "    Check their documentation for more info.\n",
      "\n",
      "[5] The \"%\" operator is also used for string formatting; the same\n",
      "    precedence applies.\n",
      "\n",
      "[6] The power operator \"**\" binds less tightly than an arithmetic\n",
      "    or bitwise unary operator on its right, that is, \"2**-1\" is \"0.5\".\n",
      "\n",
      "Related help topics: lambda, or, and, not, in, is, BOOLEAN, COMPARISON,\n",
      "BITWISE, SHIFTING, BINARY, FORMATTING, POWER, UNARY, ATTRIBUTES,\n",
      "SUBSCRIPTS, SLICINGS, CALLS, TUPLES, LISTS, DICTIONARIES, COMPARISON\n",
      "\n"
     ]
    },
    {
     "name": "stdout",
     "output_type": "stream",
     "text": [
      "help> match\n",
      "No Python documentation found for 'match'.\n",
      "Use help() to get the interactive help utility.\n",
      "Use help(str) for help on the str class.\n",
      "\n",
      "help> \"modules\"\n",
      "\n",
      "Please wait a moment while I gather a list of all available modules...\n",
      "\n"
     ]
    },
    {
     "name": "stderr",
     "output_type": "stream",
     "text": [
      "C:\\Users\\ECE LAB\\anaconda3\\lib\\site-packages\\IPython\\kernel\\__init__.py:12: ShimWarning: The `IPython.kernel` package has been deprecated since IPython 4.0.You should import from ipykernel or jupyter_client instead.\n",
      "  warn(\"The `IPython.kernel` package has been deprecated since IPython 4.0.\"\n",
      "C:\\Users\\ECE LAB\\anaconda3\\lib\\pkgutil.py:92: MatplotlibDeprecationWarning: \n",
      "The matplotlib.compat module was deprecated in Matplotlib 3.3 and will be removed two minor releases later.\n",
      "  __import__(info.name)\n",
      "C:\\Users\\ECE LAB\\anaconda3\\lib\\site-packages\\nltk\\twitter\\__init__.py:21: UserWarning: The twython library has not been installed. Some functionality from the twitter package will not be available.\n",
      "  warnings.warn(\n",
      "C:\\Users\\ECE LAB\\anaconda3\\lib\\site-packages\\skimage\\viewer\\utils\\__init__.py:1: UserWarning: Recommended matplotlib backend is `Agg` for full skimage.viewer functionality.\n",
      "  from .core import *\n",
      "C:\\Users\\ECE LAB\\anaconda3\\lib\\site-packages\\qtawesome\\iconic_font.py:311: UserWarning: You need to have a running QApplication to use QtAwesome!\n",
      "  warnings.warn(\"You need to have a running \"\n",
      "C:\\Users\\ECE LAB\\anaconda3\\lib\\pkgutil.py:107: VisibleDeprecationWarning: zmq.eventloop.minitornado is deprecated in pyzmq 14.0 and will be removed.\n",
      "    Install tornado itself to use zmq with the tornado IOLoop.\n",
      "    \n",
      "  yield from walk_packages(path, info.name+'.', onerror)\n"
     ]
    },
    {
     "name": "stdout",
     "output_type": "stream",
     "text": [
      "Cython              brain_re            mailcap             sndhdr\n",
      "IPython             brain_responses     markupsafe          snowballstemmer\n",
      "OpenSSL             brain_scipy_signal  marshal             socket\n",
      "PIL                 brain_six           math                socketserver\n",
      "PyQt5               brain_ssl           matplotlib          socks\n",
      "__future__          brain_subprocess    mccabe              sockshandler\n",
      "_abc                brain_threading     menuinst            sortedcollections\n",
      "_ast                brain_typing        mimetypes           sortedcontainers\n",
      "_asyncio            brain_uuid          mistune             soupsieve\n",
      "_bisect             brotli              mkl                 sphinx\n",
      "_blake2             bs4                 mkl_fft             sphinxcontrib\n",
      "_bootlocale         builtins            mkl_random          spyder\n",
      "_bz2                bz2                 mmap                spyder_kernels\n",
      "_cffi_backend       cProfile            mmapfile            sqlalchemy\n",
      "_codecs             calendar            mmsystem            sqlite3\n",
      "_codecs_cn          certifi             mock                sre_compile\n",
      "_codecs_hk          cffi                modulefinder        sre_constants\n",
      "_codecs_iso2022     cgi                 more_itertools      sre_parse\n",
      "_codecs_jp          cgitb               mpmath              ssl\n",
      "_codecs_kr          chardet             msgpack             sspi\n",
      "_codecs_tw          chunk               msilib              sspicon\n",
      "_collections        click               msvcrt              stat\n",
      "_collections_abc    cloudpickle         multipledispatch    statistics\n",
      "_compat_pickle      clyent              multiprocessing     statsmodels\n",
      "_compression        cmath               nacl                storemagic\n",
      "_contextvars        cmd                 navigator_updater   string\n",
      "_csv                code                nbclient            stringprep\n",
      "_ctypes             codecs              nbconvert           struct\n",
      "_ctypes_test        codeop              nbformat            subprocess\n",
      "_datetime           collections         nest_asyncio        sunau\n",
      "_decimal            colorama            netbios             symbol\n",
      "_distutils_hack     colorsys            netrc               sympy\n",
      "_dummy_thread       commctrl            networkx            sympyprinting\n",
      "_elementtree        compileall          nltk                symtable\n",
      "_functools          comtypes            nntplib             sys\n",
      "_hashlib            concurrent          nose                sysconfig\n",
      "_heapq              conda               notebook            tables\n",
      "_imp                conda_build         nt                  tabnanny\n",
      "_io                 conda_env           ntpath              tarfile\n",
      "_json               conda_package_handling ntsecuritycon       tblib\n",
      "_locale             conda_verify        nturl2path          telnetlib\n",
      "_lsprof             configparser        numba               tempfile\n",
      "_lzma               contextlib          numbers             terminado\n",
      "_markupbase         contextlib2         numexpr             test\n",
      "_md5                contextvars         numpy               test_data\n",
      "_msi                copy                numpydoc            test_pycosat\n",
      "_multibytecodec     copyreg             odbc                testpath\n",
      "_multiprocessing    crypt               olefile             tests\n",
      "_nsis               cryptography        opcode              textwrap\n",
      "_opcode             csv                 openpyxl            this\n",
      "_operator           ctypes              operator            threading\n",
      "_osx_support        curl                optparse            threadpoolctl\n",
      "_overlapped         curses              os                  time\n",
      "_pickle             cwp                 packaging           timeit\n",
      "_py_abc             cycler              pandas              timer\n",
      "_pydecimal          cython              pandocfilters       tkinter\n",
      "_pyio               cythonmagic         paramiko            tlz\n",
      "_pyrsistent_version cytoolz             parser              token\n",
      "_pytest             dask                parso               tokenize\n",
      "_queue              dataclasses         partd               toml\n",
      "_random             datetime            past                toolz\n",
      "_sha1               dateutil            path                tornado\n",
      "_sha256             dbi                 pathlib             tqdm\n",
      "_sha3               dbm                 pathlib2            trace\n",
      "_sha512             dde                 pathtools           traceback\n",
      "_signal             decimal             patsy               tracemalloc\n",
      "_sitebuiltins       decorator           pdb                 traitlets\n",
      "_socket             defusedxml          pep8                tty\n",
      "_sqlite3            diff_match_patch    perfmon             turtle\n",
      "_sre                difflib             pexpect             turtledemo\n",
      "_ssl                dis                 pickle              types\n",
      "_stat               distributed         pickleshare         typing\n",
      "_statistics         distutils           pickletools         typing_extensions\n",
      "_string             doctest             pip                 ujson\n",
      "_strptime           docutils            pipes               unicodecsv\n",
      "_struct             dummy_threading     pkg_resources       unicodedata\n",
      "_symtable           easy_install        pkginfo             unittest\n",
      "_system_path        email               pkgutil             urllib\n",
      "_testbuffer         encodings           platform            urllib3\n",
      "_testcapi           ensurepip           plistlib            uu\n",
      "_testconsole        entrypoints         pluggy              uuid\n",
      "_testimportmultiple enum                ply                 venv\n",
      "_testinternalcapi   errno               poplib              warnings\n",
      "_testmultiphase     et_xmlfile          posixpath           watchdog\n",
      "_thread             fastcache           pprint              wave\n",
      "_threading_local    faulthandler        profile             wcwidth\n",
      "_tkinter            filecmp             prometheus_client   weakref\n",
      "_tracemalloc        fileinput           prompt_toolkit      webbrowser\n",
      "_warnings           filelock            pstats              webencodings\n",
      "_weakref            flake8              psutil              werkzeug\n",
      "_weakrefset         flask               pty                 wheel\n",
      "_win32sysloader     fnmatch             pvectorc            widgetsnbextension\n",
      "_winapi             formatter           py                  win2kras\n",
      "_winxptheme         fractions           py_compile          win32api\n",
      "_xxsubinterpreters  fsspec              pyclbr              win32clipboard\n",
      "_yaml               ftplib              pycodestyle         win32com\n",
      "abc                 functools           pycosat             win32con\n",
      "adodbapi            future              pycparser           win32console\n",
      "afxres              gc                  pycurl              win32cred\n",
      "aifc                genericpath         pydoc               win32crypt\n",
      "alabaster           getopt              pydoc_data          win32cryptcon\n",
      "anaconda_navigator  getpass             pydocstyle          win32ctypes\n",
      "anaconda_project    gettext             pyexpat             win32event\n",
      "antigravity         gevent              pyflakes            win32evtlog\n",
      "argh                glob                pygments            win32evtlogutil\n",
      "argon2              glob2               pylab               win32file\n",
      "argparse            greenlet            pylint              win32gui\n",
      "array               gzip                pyls                win32gui_struct\n",
      "asn1crypto          h5py                pyls_jsonrpc        win32help\n",
      "ast                 hashlib             pyodbc              win32inet\n",
      "astroid             heapdict            pyparsing           win32inetcon\n",
      "astropy             heapq               pyreadline          win32job\n",
      "async_generator     hmac                pyrsistent          win32lz\n",
      "asynchat            html                pytest              win32net\n",
      "asyncio             html5lib            pythoncom           win32netcon\n",
      "asyncore            http                pytz                win32pdh\n",
      "atexit              idlelib             pywin               win32pdhquery\n",
      "atomicwrites        idna                pywin32_bootstrap   win32pdhutil\n",
      "attr                imageio             pywin32_testutil    win32pipe\n",
      "audioop             imagesize           pywintypes          win32print\n",
      "autopep8            imaplib             pywt                win32process\n",
      "autoreload          imghdr              pyximport           win32profile\n",
      "babel               imp                 qdarkstyle          win32ras\n",
      "backcall            importlib           qtawesome           win32rcparser\n",
      "backports           importlib_metadata  qtconsole           win32security\n",
      "base64              iniconfig           qtpy                win32service\n",
      "bcrypt              inspect             queue               win32serviceutil\n",
      "bdb                 intervaltree        quopri              win32timezone\n",
      "binascii            io                  random              win32trace\n",
      "binhex              ipaddress           rasutil             win32traceutil\n",
      "binstar_client      ipykernel           re                  win32transaction\n",
      "bisect              ipykernel_launcher  readline            win32ts\n",
      "bitarray            ipython_genutils    regcheck            win32ui\n",
      "bkcharts            ipywidgets          regex               win32uiole\n",
      "bleach              isapi               regutil             win32verstamp\n",
      "bokeh               isort               reprlib             win32wnet\n",
      "boto                isympy              requests            win_inet_pton\n",
      "bottleneck          itertools           rlcompleter         win_unicode_console\n",
      "brain_argparse      itsdangerous        rmagic              wincertstore\n",
      "brain_attrs         jdcal               rope                winerror\n",
      "brain_boto3         jedi                rtree               winioctlcon\n",
      "brain_builtin_inference jinja2              ruamel_yaml         winnt\n",
      "brain_collections   joblib              run                 winperf\n",
      "brain_crypt         json                runpy               winpty\n",
      "brain_curses        json5               sched               winreg\n",
      "brain_dataclasses   jsonschema          scipy               winsound\n",
      "brain_dateutil      jupyter             scripts             winxpgui\n",
      "brain_fstrings      jupyter_client      seaborn             winxptheme\n",
      "brain_functools     jupyter_console     secrets             wrapt\n",
      "brain_gi            jupyter_core        select              wsgiref\n",
      "brain_hashlib       jupyterlab          selectors           xdrlib\n",
      "brain_http          jupyterlab_pygments send2trash          xlrd\n",
      "brain_io            jupyterlab_server   servicemanager      xlsxwriter\n",
      "brain_mechanize     keyring             setuptools          xlwings\n",
      "brain_multiprocessing keyword             shelve              xlwt\n",
      "brain_namedtuple_enum kiwisolver          shlex               xml\n",
      "brain_nose          lazy_object_proxy   shutil              xmlrpc\n",
      "brain_numpy_core_fromnumeric lib2to3             signal              xmltodict\n",
      "brain_numpy_core_function_base libarchive          simplegeneric       xxsubtype\n",
      "brain_numpy_core_multiarray libfuturize         singledispatch      yaml\n",
      "brain_numpy_core_numeric libpasteurize       singledispatch_helpers yapf\n",
      "brain_numpy_core_numerictypes lief                sip                 yapftests\n",
      "brain_numpy_core_umath linecache           sipconfig           zict\n",
      "brain_numpy_ndarray llvmlite            sipdistutils        zipapp\n",
      "brain_numpy_random_mtrand locale              site                zipfile\n",
      "brain_numpy_utils   locket              six                 zipimport\n",
      "brain_pkg_resources logging             skimage             zipp\n",
      "brain_pytest        lxml                sklearn             zlib\n",
      "brain_qt            lzma                smtpd               zmq\n",
      "brain_random        mailbox             smtplib             zope\n",
      "\n",
      "Enter any module name to get more help.  Or, type \"modules spam\" to search\n",
      "for modules whose name or summary contain the string \"spam\".\n",
      "\n"
     ]
    }
   ],
   "source": [
    "help()"
   ]
  },
  {
   "cell_type": "code",
   "execution_count": 10,
   "metadata": {},
   "outputs": [
    {
     "ename": "NameError",
     "evalue": "name 're' is not defined",
     "output_type": "error",
     "traceback": [
      "\u001b[1;31m---------------------------------------------------------------------------\u001b[0m",
      "\u001b[1;31mNameError\u001b[0m                                 Traceback (most recent call last)",
      "\u001b[1;32m<ipython-input-10-89a3b8f0bb52>\u001b[0m in \u001b[0;36m<module>\u001b[1;34m\u001b[0m\n\u001b[1;32m----> 1\u001b[1;33m \u001b[0mre\u001b[0m\u001b[1;33m.\u001b[0m\u001b[0mmatch\u001b[0m\u001b[1;33m(\u001b[0m\u001b[1;34m'ra'\u001b[0m\u001b[1;33m,\u001b[0m\u001b[1;34m'ravi'\u001b[0m\u001b[1;33m)\u001b[0m\u001b[1;33m\u001b[0m\u001b[1;33m\u001b[0m\u001b[0m\n\u001b[0m\u001b[0;32m      2\u001b[0m \u001b[0mre\u001b[0m\u001b[1;33m.\u001b[0m\u001b[0msearch\u001b[0m\u001b[1;33m(\u001b[0m\u001b[1;34m'r'\u001b[0m\u001b[1;33m,\u001b[0m\u001b[1;34m'ravi'\u001b[0m\u001b[1;33m)\u001b[0m\u001b[1;33m\u001b[0m\u001b[1;33m\u001b[0m\u001b[0m\n\u001b[0;32m      3\u001b[0m \u001b[0mre\u001b[0m\u001b[1;33m.\u001b[0m\u001b[0mfindall\u001b[0m\u001b[1;33m(\u001b[0m\u001b[1;34m'r'\u001b[0m\u001b[1;33m,\u001b[0m\u001b[1;34m'bravir'\u001b[0m\u001b[1;33m)\u001b[0m\u001b[1;33m\u001b[0m\u001b[1;33m\u001b[0m\u001b[0m\n",
      "\u001b[1;31mNameError\u001b[0m: name 're' is not defined"
     ]
    }
   ],
   "source": [
    "re.match('ra','ravi')\n",
    "re.search('r','bravi')\n",
    "re.findall('r','bravir')"
   ]
  },
  {
   "cell_type": "code",
   "execution_count": 11,
   "metadata": {},
   "outputs": [
    {
     "ename": "NameError",
     "evalue": "name 're' is not defined",
     "output_type": "error",
     "traceback": [
      "\u001b[1;31m---------------------------------------------------------------------------\u001b[0m",
      "\u001b[1;31mNameError\u001b[0m                                 Traceback (most recent call last)",
      "\u001b[1;32m<ipython-input-11-50bca134fea1>\u001b[0m in \u001b[0;36m<module>\u001b[1;34m\u001b[0m\n\u001b[1;32m----> 1\u001b[1;33m \u001b[0mre\u001b[0m\u001b[1;33m.\u001b[0m\u001b[0msearch\u001b[0m \u001b[1;33m(\u001b[0m\u001b[1;34m'^r'\u001b[0m\u001b[1;33m,\u001b[0m\u001b[1;34m'bruce'\u001b[0m\u001b[1;33m)\u001b[0m\u001b[1;33m\u001b[0m\u001b[1;33m\u001b[0m\u001b[0m\n\u001b[0m",
      "\u001b[1;31mNameError\u001b[0m: name 're' is not defined"
     ]
    }
   ],
   "source": [
    "re.search ('^r','bruce')"
   ]
  },
  {
   "cell_type": "code",
   "execution_count": 13,
   "metadata": {},
   "outputs": [
    {
     "ename": "NameError",
     "evalue": "name 're' is not defined",
     "output_type": "error",
     "traceback": [
      "\u001b[1;31m---------------------------------------------------------------------------\u001b[0m",
      "\u001b[1;31mNameError\u001b[0m                                 Traceback (most recent call last)",
      "\u001b[1;32m<ipython-input-13-982a45a2cc59>\u001b[0m in \u001b[0;36m<module>\u001b[1;34m\u001b[0m\n\u001b[1;32m----> 1\u001b[1;33m \u001b[0mre\u001b[0m\u001b[1;33m.\u001b[0m\u001b[0msearch\u001b[0m\u001b[1;33m(\u001b[0m\u001b[1;34m'i$'\u001b[0m\u001b[1;33m,\u001b[0m\u001b[1;34m'bruce'\u001b[0m\u001b[1;33m)\u001b[0m\u001b[1;33m\u001b[0m\u001b[1;33m\u001b[0m\u001b[0m\n\u001b[0m",
      "\u001b[1;31mNameError\u001b[0m: name 're' is not defined"
     ]
    }
   ],
   "source": [
    " re.search('i$','bruce')"
   ]
  },
  {
   "cell_type": "code",
   "execution_count": 4,
   "metadata": {},
   "outputs": [
    {
     "ename": "NameError",
     "evalue": "name 're' is not defined",
     "output_type": "error",
     "traceback": [
      "\u001b[1;31m---------------------------------------------------------------------------\u001b[0m",
      "\u001b[1;31mNameError\u001b[0m                                 Traceback (most recent call last)",
      "\u001b[1;32m<ipython-input-4-c31644f0632c>\u001b[0m in \u001b[0;36m<module>\u001b[1;34m\u001b[0m\n\u001b[1;32m----> 1\u001b[1;33m \u001b[0mre\u001b[0m\u001b[1;33m.\u001b[0m\u001b[0msearch\u001b[0m\u001b[1;33m(\u001b[0m\u001b[1;34m'.'\u001b[0m\u001b[1;33m,\u001b[0m\u001b[1;34m'ravi'\u001b[0m\u001b[1;33m)\u001b[0m\u001b[1;33m\u001b[0m\u001b[1;33m\u001b[0m\u001b[0m\n\u001b[0m",
      "\u001b[1;31mNameError\u001b[0m: name 're' is not defined"
     ]
    }
   ],
   "source": [
    "re.search('.','ravi')"
   ]
  },
  {
   "cell_type": "code",
   "execution_count": 5,
   "metadata": {},
   "outputs": [
    {
     "ename": "SyntaxError",
     "evalue": "invalid syntax (<ipython-input-5-b47fe02515c9>, line 1)",
     "output_type": "error",
     "traceback": [
      "\u001b[1;36m  File \u001b[1;32m\"<ipython-input-5-b47fe02515c9>\"\u001b[1;36m, line \u001b[1;32m1\u001b[0m\n\u001b[1;33m    l.=['ravi','anil','vijay','venkates']\u001b[0m\n\u001b[1;37m      ^\u001b[0m\n\u001b[1;31mSyntaxError\u001b[0m\u001b[1;31m:\u001b[0m invalid syntax\n"
     ]
    }
   ],
   "source": [
    "l.=['ravi','anil','vijay','venkates']\n",
    "for i in l:\n",
    "    if re.search('^r')\n",
    "    "
   ]
  },
  {
   "cell_type": "code",
   "execution_count": 8,
   "metadata": {},
   "outputs": [
    {
     "ename": "NameError",
     "evalue": "name 're' is not defined",
     "output_type": "error",
     "traceback": [
      "\u001b[1;31m---------------------------------------------------------------------------\u001b[0m",
      "\u001b[1;31mNameError\u001b[0m                                 Traceback (most recent call last)",
      "\u001b[1;32m<ipython-input-8-aead13974a56>\u001b[0m in \u001b[0;36m<module>\u001b[1;34m\u001b[0m\n\u001b[1;32m----> 1\u001b[1;33m \u001b[0mre\u001b[0m\u001b[1;33m.\u001b[0m\u001b[0msearch\u001b[0m\u001b[1;33m(\u001b[0m\u001b[1;34m'\\S'\u001b[0m\u001b[1;33m,\u001b[0m\u001b[1;34m'S ravi'\u001b[0m\u001b[1;33m)\u001b[0m\u001b[1;33m\u001b[0m\u001b[1;33m\u001b[0m\u001b[0m\n\u001b[0m",
      "\u001b[1;31mNameError\u001b[0m: name 're' is not defined"
     ]
    }
   ],
   "source": [
    "re.search('\\S','S ravi')"
   ]
  },
  {
   "cell_type": "code",
   "execution_count": 9,
   "metadata": {},
   "outputs": [
    {
     "ename": "NameError",
     "evalue": "name 're' is not defined",
     "output_type": "error",
     "traceback": [
      "\u001b[1;31m---------------------------------------------------------------------------\u001b[0m",
      "\u001b[1;31mNameError\u001b[0m                                 Traceback (most recent call last)",
      "\u001b[1;32m<ipython-input-9-e1cb26395327>\u001b[0m in \u001b[0;36m<module>\u001b[1;34m\u001b[0m\n\u001b[1;32m----> 1\u001b[1;33m \u001b[0mre\u001b[0m\u001b[1;33m.\u001b[0m\u001b[0msearch\u001b[0m\u001b[1;33m(\u001b[0m\u001b[1;34m'\\d'\u001b[0m\u001b[1;33m,\u001b[0m\u001b[1;34m'123ravi'\u001b[0m\u001b[1;33m)\u001b[0m\u001b[1;33m\u001b[0m\u001b[1;33m\u001b[0m\u001b[0m\n\u001b[0m",
      "\u001b[1;31mNameError\u001b[0m: name 're' is not defined"
     ]
    }
   ],
   "source": [
    "re.search('\\d','123ravi')"
   ]
  },
  {
   "cell_type": "code",
   "execution_count": null,
   "metadata": {
    "scrolled": true
   },
   "outputs": [
    {
     "name": "stdout",
     "output_type": "stream",
     "text": [
      "\n",
      "Welcome to Python 3.8's help utility!\n",
      "\n",
      "If this is your first time using Python, you should definitely check out\n",
      "the tutorial on the Internet at https://docs.python.org/3.8/tutorial/.\n",
      "\n",
      "Enter the name of any module, keyword, or topic to get help on writing\n",
      "Python programs and using Python modules.  To quit this help utility and\n",
      "return to the interpreter, just type \"quit\".\n",
      "\n",
      "To get a list of available modules, keywords, symbols, or topics, type\n",
      "\"modules\", \"keywords\", \"symbols\", or \"topics\".  Each module also comes\n",
      "with a one-line summary of what it does; to list the modules whose name\n",
      "or summary contain a given string such as \"spam\", type \"modules spam\".\n",
      "\n"
     ]
    }
   ],
   "source": [
    "help()"
   ]
  },
  {
   "cell_type": "code",
   "execution_count": null,
   "metadata": {},
   "outputs": [],
   "source": []
  }
 ],
 "metadata": {
  "kernelspec": {
   "display_name": "Python 3",
   "language": "python",
   "name": "python3"
  },
  "language_info": {
   "codemirror_mode": {
    "name": "ipython",
    "version": 3
   },
   "file_extension": ".py",
   "mimetype": "text/x-python",
   "name": "python",
   "nbconvert_exporter": "python",
   "pygments_lexer": "ipython3",
   "version": "3.8.5"
  }
 },
 "nbformat": 4,
 "nbformat_minor": 4
}
